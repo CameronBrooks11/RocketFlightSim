{
 "cells": [
  {
   "cell_type": "markdown",
   "metadata": {},
   "source": [
    "## Import, Clean, Select and/or Create Data"
   ]
  },
  {
   "cell_type": "markdown",
   "metadata": {},
   "source": [
    "- Import libraries\n",
    "- If selected, either:\n",
    "    - Read TeleMetrum or TeleMega data, in which case also:\n",
    "        - Remove the collected data for which the rocket was either:\n",
    "            - on the pad and not started motor burn\n",
    "            - landed and not moving   \n",
    "        - The TeleMega didn't start capturing velocity data until shortly before apogee, so I add an approximation based on integration of the acceleration data for the missing points\n",
    "        - Correct temperatures to what the temperature would be on the outside of the rocket by using the standard temperature lapse rate\n",
    "    - Define custom flightpath\n",
    "- Define helper functions"
   ]
  },
  {
   "cell_type": "code",
   "execution_count": null,
   "metadata": {},
   "outputs": [],
   "source": [
    "# Select Data\n",
    "dataset_choice = 'telemetrum' # options: telemetrum, telemega, custom"
   ]
  },
  {
   "cell_type": "code",
   "execution_count": null,
   "metadata": {},
   "outputs": [],
   "source": [
    "# import libraries, import data, clean data\n",
    "import pandas as pd\n",
    "import matplotlib.pyplot as plt\n",
    "import numpy as np\n",
    "\n",
    "if dataset_choice == 'telemetrum':\n",
    "    telemetrum_data = pd.read_csv('2022-06-24-serial-5115-flight-0001.csv',skiprows=range(1,23)).iloc[:-258].drop_duplicates().reset_index()\n",
    "\n",
    "if dataset_choice == 'telemega':\n",
    "    telemega_data = pd.read_csv('2022-06-24-serial-6583-flight-0003.csv',skiprows=range(1,18)).iloc[:-216].drop_duplicates().reset_index()\n",
    "\n",
    "    for i in range(3):\n",
    "        telemega_data.at[i, 'speed'] = 0\n",
    "    for i in range(len(telemega_data)-3):\n",
    "        if telemega_data['speed'][i] == '     NaN':\n",
    "            telemega_data.at[i, 'speed'] = telemega_data['acceleration'][i]*(telemega_data['time'][i]-telemega_data['time'][i-1]) + telemega_data['speed'][i-1]\n",
    "\n",
    "# todo:\n",
    "    # make smoothed versions? take out outliers?\n",
    "    # ultimate goal: make it so other parameters can be input, like other thrust curves, other ground temps/pressures (like in report 1 sim), other rocket masses, etc"
   ]
  },
  {
   "cell_type": "code",
   "execution_count": null,
   "metadata": {},
   "outputs": [],
   "source": [
    "# Helper functions\n",
    "def temp_at_height(altitude, temp_at_launch_site):\n",
    "    return temp_at_launch_site - (altitude*6.5*pow(10,-3))\n",
    "\n",
    "def pressure_at_height(altitude, temp_at_launch_site):\n",
    "    return 1000*87*(pow((1-(altitude*6.5*pow(10,-3)/(temp_at_launch_site+273.15))),(9.80665*0.0289644/(8.3144598*6.5*pow(10,-3))))) # Pressure at the launch site was around 87 kPa for Prometheus' launch"
   ]
  },
  {
   "cell_type": "code",
   "execution_count": null,
   "metadata": {},
   "outputs": [],
   "source": [
    "# Set dataset, fix temperature for Prometheus datasets\n",
    "if dataset_choice == 'telemetrum':\n",
    "    dataset = telemetrum_data\n",
    "elif dataset_choice == 'telemega':\n",
    "    dataset = telemega_data\n",
    "elif dataset_choice == 'custom':\n",
    "    dataset = pd.DataFrame(columns=['time','height','speed','acceleration','temperature','pressure'])\n",
    "\n",
    "if not dataset_choice == 'custom': \n",
    "    dataset['temperature'] = dataset['height'].apply(lambda x: temp_at_height(x,dataset['temperature'][0]))\n",
    "    def thrust_at_time(time): # as per https://www.csrocketry.com/rocket-motors/cesaroni/motors/pro-98/3g-reloads/cesaroni-m1520-blue-streak-rocket-motor.html\n",
    "        if time < 2.5: return 1785\n",
    "        elif time <4.5: return 1785 - (time-2.5)*(1785-1340)/2\n",
    "        elif time <4.9: return 1340 - (time - 4.5)*(1340)/0.4\n",
    "        else: return 0\n",
    "    def mass_at_time(time):\n",
    "        if time <4.9: return 20.51-(time*(20.51-16.91)/4.9)\n",
    "        else: return 16.91"
   ]
  },
  {
   "cell_type": "code",
   "execution_count": null,
   "metadata": {},
   "outputs": [],
   "source": [
    "# Create custom flight profile\n",
    "if dataset_choice == 'custom':\n",
    "    # initial parameters, thrust and mass conditions\n",
    "    sim_end = 60\n",
    "    timesteps = 10000\n",
    "    temp_at_launchpad = 30 # deg C\n",
    "    def thrust_at_time(time): # as per https://www.csrocketry.com/rocket-motors/cesaroni/motors/pro-98/3g-reloads/cesaroni-m1520-blue-streak-rocket-motor.html\n",
    "        if time < 2.5: return 1785\n",
    "        elif time <4.5: return 1785 - (time-2.5)*(1785-1340)/2\n",
    "        elif time <4.9: return 1340 - (time - 4.5)*(1340)/0.4\n",
    "        else: return 0\n",
    "    def mass_at_time(time):\n",
    "        if time <4.9: return 20.51-(time*(20.51-16.91)/4.9)\n",
    "        else: return 16.91\n",
    "\n",
    "    # simulate flight\n",
    "    dataset['time'] = np.linspace(0,sim_end,timesteps)\n",
    "    timestep = (sim_end/timesteps)\n",
    "\n",
    "    # add a parameter to give basic drag, proportional to q, and which when given the difference between Prometheus' actual flightpath and what this would predict does a good job at minimizing the differences\n",
    "\n",
    "    dataset['acceleration'] = dataset['time'].apply(lambda x: thrust_at_time(x)/mass_at_time(x) - 9.81)\n",
    "    dataset['speed'], dataset['height'] = 0, 0\n",
    "    for i in range(1, timesteps):\n",
    "        dataset.at[i, 'speed'] = dataset.at[i - 1, 'speed'] + (dataset.at[i, 'acceleration'])*timestep\n",
    "        dataset.at[i, 'height'] = dataset.at[i - 1, 'height'] + (dataset.at[i, 'speed'])*timestep\n",
    "\n",
    "    dataset['temperature'] = dataset['height'].apply(lambda x: temp_at_height(x,temp_at_launchpad))\n",
    "    dataset['pressure'] = dataset['height'].apply(lambda x: pressure_at_height(x,temp_at_launchpad))"
   ]
  },
  {
   "cell_type": "markdown",
   "metadata": {},
   "source": [
    "## Ascent Overview\n",
    "\n",
    "(we don't really care about what happends after apogee; that's when our job finishes. Well, maybe we'll want them to retract at apogee, but if it's survived to apogee, that's the main goal)"
   ]
  },
  {
   "cell_type": "code",
   "execution_count": null,
   "metadata": {},
   "outputs": [],
   "source": [
    "# Set graph units\n",
    "imperial = True"
   ]
  },
  {
   "cell_type": "code",
   "execution_count": null,
   "metadata": {},
   "outputs": [],
   "source": [
    "apogee_index = dataset['height'].idxmax()-5 # last 5 data points taken off so that the affects due to chute deployment at apogee aren't considered\n",
    "time = dataset['time'][0:apogee_index]\n",
    "height = dataset['height'][0:apogee_index].copy()\n",
    "speed = dataset['speed'][0:apogee_index].copy()\n",
    "accel = dataset['acceleration'][0:apogee_index].copy()\n",
    "unit = 'm'\n",
    "if imperial: \n",
    "    height *= 3.281\n",
    "    speed *= 3.281 \n",
    "    accel *= 3.281\n",
    "    unit = 'ft'\n",
    "\n",
    "fig, ax1 = plt.subplots()\n",
    "ax1.plot(time, height, color='b', label='Dataset 1')\n",
    "ax1.set_xlabel('Time (s)')\n",
    "ax1.set_ylabel(f'Height ({unit})', color='b')\n",
    "ax1.tick_params(axis='y', labelcolor='b')\n",
    "\n",
    "ax2 = ax1.twinx()\n",
    "ax2.plot(time, speed, color='r', label='Dataset 2')\n",
    "ax2.set_ylabel(f'Speed ({unit}/s)', color='r')\n",
    "ax2.tick_params(axis='y', labelcolor='r')\n",
    "\n",
    "ax3 = ax1.twinx()\n",
    "ax3.spines['right'].set_position(('outward', 60))\n",
    "ax3.plot(time, accel, color='g', label='Dataset 3')\n",
    "ax3.set_ylabel(f'Acceleration ({unit}/s^2)', color='g')\n",
    "ax3.tick_params(axis='y', labelcolor='g')\n",
    "\n",
    "plt.title('Ascent')\n",
    "plt.show()"
   ]
  },
  {
   "cell_type": "markdown",
   "metadata": {},
   "source": [
    "## Max-q and Max g-force during ascent"
   ]
  },
  {
   "cell_type": "code",
   "execution_count": null,
   "metadata": {},
   "outputs": [],
   "source": [
    "max_a = max(dataset['acceleration'][0:apogee_index])\n",
    "print('Max g-force during ascent is:')\n",
    "print(str(max_a/9.81)[0:6] + ' g')\n",
    "\n",
    "air_density = (dataset['pressure'][0:apogee_index])/((dataset['temperature'][0:apogee_index]+273.15)*287.05)\n",
    "q = 0.5 * (air_density/1000) * ((dataset['speed'][0:apogee_index])**2)\n",
    "\n",
    "# note: plotting pressure against hieght of both datasets on both ascent and descent shows them to be nearly identical. Given the significant change in speed on the way up vs the way down, this suggests that the pressure inside the av bay (which is what's read by the sensors) changes nearly instantaneously with the pressure outside, at least as far as it makes a difference for the changing rates in the max-q calculation. <- check if also consistent with other sim, note if it is\n",
    "\n",
    "print('Max-q during ascent is:')\n",
    "print(str(max(q))[0:6] + ' kPa')\n",
    "plt.plot(dataset['time'][0:apogee_index],q[0:apogee_index])\n",
    "plt.xlabel('Time (s)')\n",
    "plt.ylabel('q (kPa)')\n",
    "plt.title('Dynamic Pressure over the ascent')\n",
    "plt.show()"
   ]
  },
  {
   "cell_type": "markdown",
   "metadata": {},
   "source": [
    "## Slowing Down with Airbrakes"
   ]
  },
  {
   "cell_type": "code",
   "execution_count": null,
   "metadata": {},
   "outputs": [],
   "source": [
    "# Define PID controller class\n",
    "class PIDController:\n",
    "    def __init__(self, Kp, Ki, Kd, setpoint):\n",
    "        self.Kp = Kp\n",
    "        self.Ki = Ki\n",
    "        self.Kd = Kd\n",
    "        self.setpoint = setpoint\n",
    "        self.prev_error = 0\n",
    "        self.integral = 0\n",
    "\n",
    "    def calculate(self, process_variable, dt):\n",
    "        error = self.setpoint - process_variable\n",
    "        self.integral += error * dt\n",
    "        derivative = (error - self.prev_error) / dt\n",
    "        output = self.Kp * error + self.Ki * self.integral + self.Kd * derivative\n",
    "        output = min(output, 90)\n",
    "        output = max(output, 0)\n",
    "        self.prev_error = error\n",
    "        return output"
   ]
  },
  {
   "cell_type": "code",
   "execution_count": null,
   "metadata": {},
   "outputs": [],
   "source": [
    "# airbrake, rocket parameters\n",
    "num_flaps = 3\n",
    "A_flap = 0.0025 # 25cm^2\n",
    "A_brakes = A_flap * num_flaps\n",
    "cd_brakes = 0.6 # about what other teams had, super rough\n",
    "cd_rocket = 0.35 # VERY rough, depends on mach number, other characteristics\n",
    "A_rocket = 0.015326 # 5.5\" diameter circle's area in m^2\n",
    "temp_at_launchpad = 30\n",
    "\n",
    "# set flightpath until airbrake deployment as identical\n",
    "motor_burnout = dataset[(dataset.index > 50) & (dataset['acceleration'] < 0)].head(1).index[0]\n",
    "airbrake_deployment = motor_burnout + 5 # +30 gives Prometheus about 10k apogee if total deployment happens then (slightly different but pretty similar b/w telemega and telemetrum)\n",
    "pre_brake_flight = dataset.head(airbrake_deployment).copy()\n",
    "\n",
    "# deploy airbrakes and see how flighpath changes. recalc everything at each timestep from moment deployed\n",
    "height = pre_brake_flight['height'].iloc[-1]\n",
    "deployment_height = height\n",
    "speed = pre_brake_flight['speed'].iloc[-1]\n",
    "time = pre_brake_flight['time'].iloc[-1]\n",
    "i = airbrake_deployment - 1\n",
    "mass = mass_at_time(pre_brake_flight['time'].iloc[-1])\n",
    "timestep = 0.001\n",
    "airbrake_flight = []\n",
    "\n",
    "# define PID controller\n",
    "Kp = 0.4\n",
    "Ki = 0\n",
    "Kd = 1.6\n",
    "setpoint = (10000/3.281) - deployment_height\n",
    "pid = PIDController(Kp, Ki, Kd, setpoint)\n",
    "\n",
    "# for efficiency, may be removed when the simulation is made more accurate by the cds changing during the sim:\n",
    "A_cd_brakes = A_brakes*cd_brakes\n",
    "A_cd_rocket = A_rocket*cd_rocket\n",
    "\n",
    "while speed > 0:\n",
    "    time += timestep\n",
    "\n",
    "    temperature = temp_at_height(height - deployment_height,temp_at_launchpad)\n",
    "    pressure = pressure_at_height(height,temp_at_launchpad)\n",
    "    q = 0.5 * (pressure/((temperature+273.15)*287.05)) * (speed**2)\n",
    "\n",
    "    PID_output = pid.calculate(height-deployment_height, timestep) \n",
    "\n",
    "    acceleration = -9.81-(np.sin(np.deg2rad(PID_output))*A_cd_brakes+A_cd_rocket)*q/mass\n",
    "    height += speed*timestep\n",
    "    speed += acceleration*timestep\n",
    "\n",
    "    new_data = {\n",
    "        'time': time,\n",
    "        'height': height,\n",
    "        'speed': speed,\n",
    "        'temperature': temperature,\n",
    "        'pressure': pressure,\n",
    "        'acceleration': acceleration\n",
    "    }\n",
    "    airbrake_flight.append(new_data)\n",
    "    i+=1\n",
    "    # if i > 10000: break\n",
    "whole_flight = pd.concat([pre_brake_flight, pd.DataFrame(airbrake_flight)], ignore_index=True)\n",
    "print(dataset['height'][apogee_index]*3.281)\n",
    "print(height*3.281)\n",
    "\n",
    "# how high should the rocket overshoot without deployment\n",
    "# have we started looking into selecting a motor yet\n",
    "# at what point during flight would we deploy?"
   ]
  },
  {
   "cell_type": "code",
   "execution_count": null,
   "metadata": {},
   "outputs": [],
   "source": [
    "# Plot new flight profile\n",
    "imperial = True"
   ]
  },
  {
   "cell_type": "code",
   "execution_count": null,
   "metadata": {},
   "outputs": [],
   "source": [
    "time = whole_flight['time'].copy()\n",
    "height = whole_flight['height'].copy()\n",
    "speed = whole_flight['speed'].copy()\n",
    "accel = whole_flight['acceleration'].copy()\n",
    "unit = 'm'\n",
    "if imperial: \n",
    "    height *= 3.281\n",
    "    speed *= 3.281 \n",
    "    accel *= 3.281\n",
    "    unit = 'ft'\n",
    "\n",
    "fig, ax1 = plt.subplots()\n",
    "ax1.plot(time, height, color='b', label='Dataset 1')\n",
    "ax1.set_xlabel('Time (s)')\n",
    "ax1.set_ylabel(f'Height ({unit})', color='b')\n",
    "ax1.tick_params(axis='y', labelcolor='b')\n",
    "\n",
    "ax2 = ax1.twinx()\n",
    "ax2.plot(time, speed, color='r', label='Dataset 2')\n",
    "ax2.set_ylabel(f'Speed ({unit}/s)', color='r')\n",
    "ax2.tick_params(axis='y', labelcolor='r')\n",
    "\n",
    "ax3 = ax1.twinx()\n",
    "ax3.spines['right'].set_position(('outward', 60))\n",
    "ax3.plot(time, accel, color='g', label='Dataset 3')\n",
    "ax3.set_ylabel(f'Acceleration ({unit}/s^2)', color='g')\n",
    "ax3.tick_params(axis='y', labelcolor='g')\n",
    "\n",
    "plt.title('Ascent')\n",
    "plt.show()"
   ]
  }
 ],
 "metadata": {
  "kernelspec": {
   "display_name": "Python 3",
   "language": "python",
   "name": "python3"
  },
  "language_info": {
   "codemirror_mode": {
    "name": "ipython",
    "version": 3
   },
   "file_extension": ".py",
   "mimetype": "text/x-python",
   "name": "python",
   "nbconvert_exporter": "python",
   "pygments_lexer": "ipython3",
   "version": "3.11.4"
  },
  "orig_nbformat": 4
 },
 "nbformat": 4,
 "nbformat_minor": 2
}
