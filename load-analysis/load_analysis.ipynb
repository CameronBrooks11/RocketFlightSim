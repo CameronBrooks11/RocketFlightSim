{
 "cells": [
  {
   "cell_type": "markdown",
   "metadata": {},
   "source": [
    "![static_arm_0deg](static_arm_0deg.png)<br>\n",
    "![static_arm_22deg](static_arm_22deg.png)<br>\n",
    "![static_arm_45deg](static_arm_45deg.png)"
   ]
  },
  {
   "cell_type": "code",
   "execution_count": 25,
   "metadata": {},
   "outputs": [
    {
     "name": "stdout",
     "output_type": "stream",
     "text": [
      "Resultant x force:  -46.35919272833937\n",
      "Resultant y force:  -18.7303296707956\n"
     ]
    }
   ],
   "source": [
    "\n",
    "import math\n",
    "\n",
    "force = 120  # The applied force in Newtons\n",
    "angle_degrees = 22  # Angle of the blue member with the horizontal\n",
    "force = 100  # The applied force in Newtons\n",
    "angle_radians = math.radians(angle_degrees)\n",
    "\n",
    "f_x = force * math.cos(angle_radians)\n",
    "f_y = force * math.sin(angle_radians)\n",
    "\n",
    "f_x_result = -f_x / 2\n",
    "f_y_result = -f_y / 2\n",
    "\n",
    "print(\"Resultant x force: \", f_x_result)\n",
    "print(\"Resultant y force: \", f_y_result)"
   ]
  },
  {
   "cell_type": "markdown",
   "metadata": {},
   "source": [
    "![](https://blog.igus.in/wp-content/uploads/2021/10/efficiencycalculate.jpg)"
   ]
  },
  {
   "cell_type": "code",
   "execution_count": 26,
   "metadata": {},
   "outputs": [
    {
     "name": "stdout",
     "output_type": "stream",
     "text": [
      "Lead screw pitch:  1.27\n",
      "Lead screw efficiency:  0.2212857409800622\n"
     ]
    }
   ],
   "source": [
    "def calculate_lead_screw_efficiency(lead, diameter, coefficient_of_friction, input_unit='imperial'):\n",
    "    \"\"\"\n",
    "    Calculate the efficiency of a lead screw considering different materials for screw and nut.\n",
    "\n",
    "    :param lead: The lead of the screw (distance the nut moves per screw revolution).\n",
    "    :param diameter: The nominal diameter of the screw.\n",
    "    :param coefficient_of_friction: The coefficient of friction between screw and nut materials.\n",
    "    :param input_unit: 'imperial' or 'metric'.\n",
    "    :return: Efficiency of the lead screw.\n",
    "    \"\"\"\n",
    "    # Convert all inputs to imperial units for calculation\n",
    "    if input_unit == 'metric':\n",
    "        lead = lead * 0.0393701  # Convert lead to inches\n",
    "        diameter = diameter * 0.0393701  # Convert diameter to inches\n",
    "\n",
    "    # Calculate pitch diameter, assuming it's close to the nominal diameter\n",
    "    pitch_diameter = diameter\n",
    "\n",
    "    # Calculate the lead angle\n",
    "    lead_angle = math.atan(lead / (math.pi * pitch_diameter))\n",
    "\n",
    "    # Calculate angle of friction\n",
    "    angle_of_friction = math.atan(coefficient_of_friction)\n",
    "\n",
    "    # Calculate efficiency\n",
    "    efficiency = math.tan(lead_angle) / math.tan(lead_angle + angle_of_friction)\n",
    "\n",
    "    return efficiency  # Fractional efficiency\n",
    "\n",
    "def calculate_pitch(threads_per_pitch, input_unit='imperial', output_unit='imperial'):\n",
    "    \"\"\"\n",
    "    Calculate the pitch of a lead screw.\n",
    "\n",
    "    :param threads_per_pitch: Threads per inch if imperial, pitch in mm if metric.\n",
    "    :param input_unit: 'imperial' or 'metric'.\n",
    "    :param output_unit: 'imperial' (threads per inch) or 'metric' (pitch in mm).\n",
    "    :return: Pitch of the lead screw in the desired unit.\n",
    "    \"\"\"\n",
    "    if input_unit == 'imperial':\n",
    "        if output_unit == 'metric':\n",
    "            # Convert threads per inch to pitch in mm (1 inch = 25.4 mm)\n",
    "            pitch = 25.4 / threads_per_pitch\n",
    "        else:\n",
    "            pitch = threads_per_pitch  # Already in threads per inch\n",
    "    else:  # input is metric\n",
    "        if output_unit == 'imperial':\n",
    "            # Convert pitch in mm to threads per inch (1 inch = 25.4 mm)\n",
    "            pitch = 25.4 / threads_per_pitch\n",
    "        else:\n",
    "            pitch = threads_per_pitch  # Already in mm\n",
    "\n",
    "    return pitch\n",
    "\n",
    "# From : https://www.mcmaster.com/95075A340/ (PET Plastic Externally Threaded Precision Acme Nut)\n",
    "coefficient_of_friction = 0.22  # Estimated for steel on PET plastic\n",
    "# from: https://www.mcmaster.com/99030A985/ (1018 Carbon Steel Precision Acme Lead Screw)\n",
    "lead = 0.05 # imperial\n",
    "diameter = 0.25 # imperial\n",
    "threads_per_pitch = 20 # imperial\n",
    "\n",
    "lead_screw_pitch = calculate_pitch(threads_per_pitch, input_unit='imperial', output_unit='metric')\n",
    "print(\"Lead screw pitch: \", lead_screw_pitch)\n",
    "lead_screw_efficiency = calculate_lead_screw_efficiency(lead, diameter, coefficient_of_friction, 'imperial')\n",
    "print(\"Lead screw efficiency: \", lead_screw_efficiency)"
   ]
  },
  {
   "cell_type": "markdown",
   "metadata": {},
   "source": [
    "![Lead Screw Nut Torque](https://dev.nookindustries.com/media/3266/5ds.png)"
   ]
  },
  {
   "cell_type": "code",
   "execution_count": 27,
   "metadata": {},
   "outputs": [
    {
     "name": "stdout",
     "output_type": "stream",
     "text": [
      "0.39429158549885757 kg-cm\n",
      "0.01930742556715194 kg-cm\n"
     ]
    }
   ],
   "source": [
    "def calculate_driving_torque(load, lead, efficiency):\n",
    "    \"\"\"\n",
    "    Calculate the driving torque for a screw.\n",
    "    \n",
    "    Parameters:\n",
    "    load (float): The load in pounds (lb).\n",
    "    lead (float): The screw lead in inches/turn.\n",
    "    efficiency (float): The efficiency of the screw.\n",
    "    \n",
    "    Returns:\n",
    "    float: The driving torque in pound-inches.\n",
    "    \"\"\"\n",
    "    return (load * lead) / (2 * math.pi * efficiency)\n",
    "\n",
    "def calculate_holding_torque(load, lead, efficiency):\n",
    "    \"\"\"\n",
    "    Calculate the holding torque for a screw.\n",
    "    \n",
    "    Parameters:\n",
    "    load (float): The load in pounds (lb).\n",
    "    lead (float): The screw lead in inches/turn.\n",
    "    efficiency (float): The efficiency of the screw.\n",
    "    \n",
    "    Returns:\n",
    "    float: The holding torque in pound-inches.\n",
    "    \"\"\"\n",
    "    return (load * lead * efficiency) / (2 * math.pi)\n",
    "\n",
    "def pound_inches_to_kg_cm(pound_inches):\n",
    "    \"\"\"\n",
    "    Convert pound-inches to kilogram-centimeters.\n",
    "    \n",
    "    Parameters:\n",
    "    pound_inches (float): The torque in pound-inches.\n",
    "    \n",
    "    Returns:\n",
    "    float: The torque in kilogram-centimeters.\n",
    "    \"\"\"\n",
    "    conversion_factor = 0.86796165979664\n",
    "    return pound_inches * conversion_factor\n",
    "\n",
    "def kg_cm_to_pound_inches(kg_cm):\n",
    "    \"\"\"\n",
    "    Convert kilogram-centimeters to pound-inches.\n",
    "    \n",
    "    Parameters:\n",
    "    kg_cm (float): The torque in kilogram-centimeters.\n",
    "    \n",
    "    Returns:\n",
    "    float: The torque in pound-inches.\n",
    "    \"\"\"\n",
    "    conversion_factor = 0.86796165979664\n",
    "    return kg_cm / conversion_factor\n",
    "\n",
    "# Example usage:\n",
    "load = abs(f_y_result) * 3  # Example load in pounds\n",
    "load_lbs = load / 4.4482216\n",
    "\n",
    "# Calculate torques\n",
    "driving_torque = calculate_driving_torque(load_lbs, lead, lead_screw_efficiency)\n",
    "holding_torque = calculate_holding_torque(load_lbs, lead, lead_screw_efficiency)\n",
    "print(pound_inches_to_kg_cm(driving_torque), \"kg-cm\")\n",
    "print(pound_inches_to_kg_cm(holding_torque), \"kg-cm\")"
   ]
  }
 ],
 "metadata": {
  "kernelspec": {
   "display_name": "Python 3",
   "language": "python",
   "name": "python3"
  },
  "language_info": {
   "codemirror_mode": {
    "name": "ipython",
    "version": 3
   },
   "file_extension": ".py",
   "mimetype": "text/x-python",
   "name": "python",
   "nbconvert_exporter": "python",
   "pygments_lexer": "ipython3",
   "version": "3.11.4"
  }
 },
 "nbformat": 4,
 "nbformat_minor": 2
}
